{
 "cells": [
  {
   "cell_type": "code",
   "execution_count": 16,
   "metadata": {},
   "outputs": [
    {
     "name": "stdout",
     "output_type": "stream",
     "text": [
      "[NbConvertApp] Converting notebook ingradient.ipynb to script\n",
      "[NbConvertApp] Writing 12359 bytes to ingradient.py\n",
      "[NbConvertApp] Converting notebook text2vector.ipynb to script\n",
      "[NbConvertApp] Writing 3671 bytes to text2vector.py\n",
      "[NbConvertApp] Converting notebook dataset.ipynb to script\n",
      "[NbConvertApp] Writing 4961 bytes to dataset.py\n",
      "[NbConvertApp] Converting notebook utils.ipynb to script\n",
      "[NbConvertApp] Writing 380 bytes to utils.py\n"
     ]
    }
   ],
   "source": [
    "!jupyter nbconvert --to script ingradient.ipynb\n",
    "!jupyter nbconvert --to script text2vector.ipynb\n",
    "!jupyter nbconvert --to script dataset.ipynb\n",
    "!jupyter nbconvert --to script utils.ipynb"
   ]
  },
  {
   "cell_type": "code",
   "execution_count": null,
   "metadata": {},
   "outputs": [],
   "source": []
  }
 ],
 "metadata": {
  "kernelspec": {
   "display_name": "Python 3",
   "language": "python",
   "name": "python3"
  },
  "language_info": {
   "codemirror_mode": {
    "name": "ipython",
    "version": 3
   },
   "file_extension": ".py",
   "mimetype": "text/x-python",
   "name": "python",
   "nbconvert_exporter": "python",
   "pygments_lexer": "ipython3",
   "version": "3.5.2"
  }
 },
 "nbformat": 4,
 "nbformat_minor": 2
}
