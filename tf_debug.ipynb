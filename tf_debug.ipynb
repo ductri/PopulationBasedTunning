{
 "cells": [
  {
   "cell_type": "code",
   "execution_count": 1,
   "metadata": {},
   "outputs": [
    {
     "name": "stderr",
     "output_type": "stream",
     "text": [
      "/usr/local/lib/python3.5/dist-packages/h5py/__init__.py:36: FutureWarning: Conversion of the second argument of issubdtype from `float` to `np.floating` is deprecated. In future, it will be treated as `np.float64 == np.dtype(float).type`.\n",
      "  from ._conv import register_converters as _register_converters\n"
     ]
    }
   ],
   "source": [
    "import numpy as np\n",
    "import tensorflow as tf\n"
   ]
  },
  {
   "cell_type": "code",
   "execution_count": 84,
   "metadata": {},
   "outputs": [],
   "source": [
    "with tf.Graph().as_default():\n",
    "    with tf.Session() as sess:\n",
    "#         tf_x = []\n",
    "#         tf_x.append(tf.nn.sparse_softmax_cross_entropy_with_logits(labels=[0], logits=[[0., 0., 0.]]))\n",
    "        \n",
    "#         tf_x.append(tf.nn.sparse_softmax_cross_entropy_with_logits(labels=[0], logits=[[1.1, 1., 1.]]))\n",
    "#         tf_x.append(tf.nn.sparse_softmax_cross_entropy_with_logits(labels=[0], logits=[[0.9, 1., 1.]]))\n",
    "        \n",
    "#         tf_x.append(tf.nn.sparse_softmax_cross_entropy_with_logits(labels=[0], logits=[[1., 1.1, 1.]]))\n",
    "#         tf_x.append(tf.nn.sparse_softmax_cross_entropy_with_logits(labels=[0], logits=[[1., 0.9, 1.]]))\n",
    "        \n",
    "#         tf_x.append(tf.nn.sparse_softmax_cross_entropy_with_logits(labels=[0], logits=[[1., 1., 1.1]]))\n",
    "#         tf_x.append(tf.nn.sparse_softmax_cross_entropy_with_logits(labels=[0], logits=[[1., 1., 0.9]]))\n",
    "#         x = sess.run(tf_x)\n",
    "        x=sess.run(tf.equal([1,2,1,2,2], 1))\n",
    "        "
   ]
  },
  {
   "cell_type": "code",
   "execution_count": 85,
   "metadata": {},
   "outputs": [
    {
     "data": {
      "text/plain": [
       "array([ True, False,  True, False, False])"
      ]
     },
     "execution_count": 85,
     "metadata": {},
     "output_type": "execute_result"
    }
   ],
   "source": [
    "x"
   ]
  },
  {
   "cell_type": "code",
   "execution_count": 66,
   "metadata": {},
   "outputs": [
    {
     "data": {
      "text/plain": [
       "array([[ 0.        ],\n",
       "       [-0.06554365],\n",
       "       [ 0.06776512],\n",
       "       [ 0.03445637],\n",
       "       [-0.03223491],\n",
       "       [ 0.03445637],\n",
       "       [-0.03223491]], dtype=float32)"
      ]
     },
     "execution_count": 66,
     "metadata": {},
     "output_type": "execute_result"
    }
   ],
   "source": [
    "x-x[0]"
   ]
  },
  {
   "cell_type": "code",
   "execution_count": 99,
   "metadata": {},
   "outputs": [],
   "source": [
    "scores = [295,294,291,287,287,285,285,284,283,279,277,274,274,271,270,268,268,268,264,260,259,258,257,255,252,250,244,241,240,237,236,236,231,227,227,227,226,225,224,223,216,212,200,197,196,194,193,189,188,187,183,182,178,177,173,171,169,165,143,140,137,135,133,130,130,130,128,127,122,120,116,114,113,109,106,103,99,92,85,81,69,68,63,63,63,61,57,51,47,46,38,30,28,25,22,15,14,12,6,4]\n",
    "alice = [5,5,6,14,19,20,23,25,29,29,30,30,32,37,38,38,38,41,41,44,45,45,47,59,59,62,63,65,67,69,70,72,72,76,79,82,83,90,91,92,93,98,98,100,100,102,103,105,106,107,109,112,115,118,118,121,122,122,123,125,125,125,127,128,131,131,133,134,139,140,141,143,144,144,144,144,147,150,152,155,156,160,164,164,165,165,166,168,169,170,171,172,173,174,174,180,184,187,187,188,194,197,197,197,198,201,202,202,207,208,211,212,212,214,217,219,219,220,220,223,225,227,228,229,229,233,235,235,236,242,242,245,246,252,253,253,257,257,260,261,266,266,268,269,271,271,275,276,281,282,283,284,285,287,289,289,295,296,298,300,300,301,304,306,308,309,310,316,318,318,324,326,329,329,329,330,330,332,337,337,341,341,349,351,351,354,356,357,366,369,377,379,380,382,391,391,394,396,396,400]\n",
    "truth = [88,88,87,85,84,84,83,82,81,81,80,80,80,80,79,79,79,79,79,79,79,79,77,75,75,74,73,73,73,71,71,71,71,71,71,70,70,69,69,68,68,68,68,67,67,67,66,66,65,65,64,64,62,61,61,60,59,59,59,59,59,59,58,57,56,56,55,55,53,52,52,51,51,51,51,51,51,51,51,51,51,51,51,51,50,50,50,50,49,49,48,48,47,47,47,45,43,42,42,41,38,36,36,36,36,35,35,35,35,35,35,34,34,34,33,33,33,33,33,32,30,28,28,28,28,27,27,27,26,23,23,22,22,20,20,20,18,18,15,15,14,14,13,13,11,11,10,10,8,8,7,6,5,4,4,4,1,1,1,1,1,1,1,1,1,1,1,1,1,1,1,1,1,1,1,1,1,1,1,1,1,1,1,1,1,1,1,1,1,1,1,1,1,1,1,1,1,1,1,1]"
   ]
  },
  {
   "cell_type": "code",
   "execution_count": 100,
   "metadata": {},
   "outputs": [],
   "source": [
    "def climbingLeaderboard(scores, alice):\n",
    "    ranking = []\n",
    "    for score in scores:\n",
    "        if not score in ranking:\n",
    "            ranking.append(score)\n",
    "    ranking.append(-1)\n",
    "    ranking_score = ranking\n",
    "    \n",
    "    current_index = len(ranking_score) - 1\n",
    "    current_score = ranking_score[current_index]\n",
    "\n",
    "    result = []\n",
    "    for alice_score in alice:\n",
    "        while True:\n",
    "            if alice_score > current_score:\n",
    "                current_index -= 1\n",
    "                if current_index > -1:\n",
    "                    current_score = ranking_score[current_index]\n",
    "                else:\n",
    "                    break\n",
    "            else:\n",
    "                break\n",
    "                    \n",
    "        if current_index == -1:\n",
    "            result.append(1)\n",
    "        elif current_score == alice_score:\n",
    "            result.append(current_index+1)\n",
    "        else:\n",
    "            result.append(current_index+2)\n",
    "    return result"
   ]
  },
  {
   "cell_type": "code",
   "execution_count": 101,
   "metadata": {},
   "outputs": [],
   "source": [
    "result = climbingLeaderboard(scores, alice)"
   ]
  },
  {
   "cell_type": "code",
   "execution_count": 102,
   "metadata": {},
   "outputs": [
    {
     "name": "stdout",
     "output_type": "stream",
     "text": [
      "158\n"
     ]
    }
   ],
   "source": [
    "for i in range(len(result)):\n",
    "    if result[i] != truth[i]:\n",
    "        print(i)\n",
    "        break"
   ]
  },
  {
   "cell_type": "code",
   "execution_count": 103,
   "metadata": {},
   "outputs": [
    {
     "data": {
      "text/plain": [
       "[0,\n",
       " -1,\n",
       " -2,\n",
       " -3,\n",
       " -4,\n",
       " -5,\n",
       " -6,\n",
       " -7,\n",
       " -8,\n",
       " -9,\n",
       " -10,\n",
       " -11,\n",
       " -12,\n",
       " -13,\n",
       " -14,\n",
       " -15,\n",
       " -16,\n",
       " -17,\n",
       " -18,\n",
       " -19,\n",
       " -20,\n",
       " -21,\n",
       " -22,\n",
       " -23,\n",
       " -24,\n",
       " -25,\n",
       " -26,\n",
       " -27,\n",
       " -28,\n",
       " -29,\n",
       " -30,\n",
       " -31,\n",
       " -32,\n",
       " -33,\n",
       " -34,\n",
       " -35,\n",
       " -36,\n",
       " -37,\n",
       " -38,\n",
       " -39,\n",
       " -40,\n",
       " -41]"
      ]
     },
     "execution_count": 103,
     "metadata": {},
     "output_type": "execute_result"
    }
   ],
   "source": [
    "result[158:]"
   ]
  },
  {
   "cell_type": "code",
   "execution_count": 97,
   "metadata": {},
   "outputs": [
    {
     "data": {
      "text/plain": [
       "[2, 2, 2, 2]"
      ]
     },
     "execution_count": 97,
     "metadata": {},
     "output_type": "execute_result"
    }
   ],
   "source": [
    "truth[196:]"
   ]
  },
  {
   "cell_type": "code",
   "execution_count": null,
   "metadata": {},
   "outputs": [],
   "source": []
  }
 ],
 "metadata": {
  "kernelspec": {
   "display_name": "Python 3",
   "language": "python",
   "name": "python3"
  },
  "language_info": {
   "codemirror_mode": {
    "name": "ipython",
    "version": 3
   },
   "file_extension": ".py",
   "mimetype": "text/x-python",
   "name": "python",
   "nbconvert_exporter": "python",
   "pygments_lexer": "ipython3",
   "version": "3.5.2"
  }
 },
 "nbformat": 4,
 "nbformat_minor": 2
}
