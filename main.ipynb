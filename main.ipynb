{
 "cells": [
  {
   "cell_type": "code",
   "execution_count": 1,
   "metadata": {},
   "outputs": [
    {
     "name": "stderr",
     "output_type": "stream",
     "text": [
      "/usr/local/lib/python3.5/dist-packages/h5py/__init__.py:36: FutureWarning: Conversion of the second argument of issubdtype from `float` to `np.floating` is deprecated. In future, it will be treated as `np.float64 == np.dtype(float).type`.\n",
      "  from ._conv import register_converters as _register_converters\n"
     ]
    }
   ],
   "source": [
    "import os\n",
    "import numpy as np\n",
    "import pandas as pd\n",
    "import tensorflow as tf\n"
   ]
  },
  {
   "cell_type": "code",
   "execution_count": 4,
   "metadata": {},
   "outputs": [],
   "source": [
    "ENTROPY_PATH = os.path.join('/dataset', 'entropy_2018')\n",
    "TRAINING_PATH = os.path.join(ENTROPY_PATH, 'training_set.csv')\n",
    "TEST_PATH = os.path.join(ENTROPY_PATH, 'test_set.csv')"
   ]
  },
  {
   "cell_type": "code",
   "execution_count": 6,
   "metadata": {},
   "outputs": [],
   "source": [
    "df_train = pd.read_csv(TRAINING_PATH)"
   ]
  },
  {
   "cell_type": "code",
   "execution_count": 7,
   "metadata": {},
   "outputs": [
    {
     "data": {
      "text/plain": [
       "(92338, 2)"
      ]
     },
     "execution_count": 7,
     "metadata": {},
     "output_type": "execute_result"
    }
   ],
   "source": []
  },
  {
   "cell_type": "code",
   "execution_count": null,
   "metadata": {},
   "outputs": [],
   "source": [
    "### -----------------------------------------------------------------\n",
    "###           INGRADIENTS: atomic elements\n",
    "### -----------------------------------------------------------------\n",
    "def build_input():\n",
    "    \"\"\"\n",
    "    Return tensor input\n",
    "    \"\"\"\n",
    "    pass\n",
    "\n",
    "def build_inference(tf_input):\n",
    "    \"\"\"\n",
    "    Return tensor logit\n",
    "    \"\"\"\n",
    "    pass\n",
    "\n",
    "def build_loss(tf_logit, tf_y):\n",
    "    pass\n",
    "\n",
    "def build_optimize(tf_loss):\n",
    "    \"\"\"\n",
    "    Return tensor optimizer\n",
    "    \"\"\"\n",
    "    pass\n",
    "\n",
    "def build_predict(tf_logit):\n",
    "    \"\"\"\n",
    "    Convert from tensor logit to tensor one hot\n",
    "    \"\"\"\n",
    "\n",
    "### -----------------------------------------------------------------\n",
    "###          PREDEFINED BASIS RULES: must be followed\n",
    "### -----------------------------------------------------------------\n",
    "def build_loss_block(build_input_func, inference_func, loss_func):\n",
    "    \"\"\"\n",
    "    Return tensor loss\n",
    "    \"\"\"\n",
    "    def build():\n",
    "        tf_X, tf_y = build_input_func()\n",
    "        tf_logit = inference_func(tf_X)\n",
    "        tf_loss = loss_func(tf_logit, tf_y)\n",
    "        assert tf_loss.shape[0] == 1\n",
    "        return tf_loss\n",
    "    return build\n",
    "\n",
    "def build_optimize_block(optimize_func, tf_loss):\n",
    "    def build(tf_loss):\n",
    "        return optimize_func(tf_loss)\n",
    "    return build\n",
    "\n",
    "def build_model(loss_block_build_func, optimize_block_build_func):\n",
    "    def build():\n",
    "        tf_loss = loss_block_build_func()\n",
    "        tf_optimizer = optimize_block_build_func(tf_loss)\n",
    "    return build\n",
    "\n",
    "### ------------------------------------------------------------------------------------------------------------\n",
    "###          RECIPE: you are allowed to pick any ingradients you like, then follow basic rules to cook your meal\n",
    "### ------------------------------------------------------------------------------------------------------------\n",
    "def build_model_v1():\n",
    "    loss_block = build_loss_block(build_input, build_inference, build_loss)\n",
    "    "
   ]
  },
  {
   "cell_type": "code",
   "execution_count": 12,
   "metadata": {},
   "outputs": [],
   "source": [
    "\n",
    "gr = tf.Graph()\n",
    "with gr.as_default():\n",
    "    a = tf.get_variable(name='a', dtype=tf.float32, initializer=tf.zeros_initializer, shape=[1])\n",
    "    b = tf.get_variable(name='b', dtype=tf.float32, initializer=tf.zeros_initializer, shape=[1])\n",
    "    c = a + b"
   ]
  },
  {
   "cell_type": "code",
   "execution_count": 13,
   "metadata": {},
   "outputs": [
    {
     "name": "stdout",
     "output_type": "stream",
     "text": [
      "[0.]\n"
     ]
    }
   ],
   "source": [
    "with gr.as_default():\n",
    "    with tf.Session() as sess:\n",
    "        sess.run(tf.global_variables_initializer())\n",
    "        print(sess.run(c))"
   ]
  },
  {
   "cell_type": "code",
   "execution_count": null,
   "metadata": {},
   "outputs": [],
   "source": []
  }
 ],
 "metadata": {
  "kernelspec": {
   "display_name": "Python 3",
   "language": "python",
   "name": "python3"
  },
  "language_info": {
   "codemirror_mode": {
    "name": "ipython",
    "version": 3
   },
   "file_extension": ".py",
   "mimetype": "text/x-python",
   "name": "python",
   "nbconvert_exporter": "python",
   "pygments_lexer": "ipython3",
   "version": "3.5.2"
  }
 },
 "nbformat": 4,
 "nbformat_minor": 2
}
