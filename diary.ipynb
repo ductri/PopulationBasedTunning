{
 "cells": [
  {
   "cell_type": "markdown",
   "metadata": {},
   "source": [
    "# Debug "
   ]
  },
  {
   "cell_type": "markdown",
   "metadata": {},
   "source": [
    "Phenomenon: \n",
    "\n",
    "- Loss suddenly goes up to a constant 1.099.\n",
    "- Evidence: 2018-08-04T11:22:37 and 2018-08-04T15:15:28"
   ]
  },
  {
   "cell_type": "markdown",
   "metadata": {},
   "source": [
    "- It happens at the same position if I don't restart kernel"
   ]
  },
  {
   "cell_type": "markdown",
   "metadata": {},
   "source": [
    "- I don't know, but it seems to happened very earlier for recent experiments: 2018-08-04T18:41:35 and 2018-08-04T18:44:17"
   ]
  },
  {
   "cell_type": "markdown",
   "metadata": {},
   "source": [
    "- Restarted, it happened very soon again. I don't know why. This phenomenon should happen much more later :3"
   ]
  },
  {
   "cell_type": "markdown",
   "metadata": {},
   "source": [
    "- `Nan in summary histogram` in 2018-08-06T14:04:43"
   ]
  },
  {
   "cell_type": "markdown",
   "metadata": {},
   "source": [
    "In conclusion, `tf.train.GradientDescentOptimizer` is really unstable"
   ]
  },
  {
   "cell_type": "markdown",
   "metadata": {},
   "source": [
    "- Still stuck at 1.099 with 2018-08-06T15:06:15, although `AdamOptimizer` is using instead of `GradientDescentOptimizer`"
   ]
  },
  {
   "cell_type": "markdown",
   "metadata": {},
   "source": [
    "- Reduce `learning_rate` to 0.005: 2018-08-06T16:20:16"
   ]
  },
  {
   "cell_type": "code",
   "execution_count": null,
   "metadata": {},
   "outputs": [],
   "source": []
  }
 ],
 "metadata": {
  "kernelspec": {
   "display_name": "Python 3",
   "language": "python",
   "name": "python3"
  },
  "language_info": {
   "codemirror_mode": {
    "name": "ipython",
    "version": 3
   },
   "file_extension": ".py",
   "mimetype": "text/x-python",
   "name": "python",
   "nbconvert_exporter": "python",
   "pygments_lexer": "ipython3",
   "version": "3.5.2"
  }
 },
 "nbformat": 4,
 "nbformat_minor": 2
}
